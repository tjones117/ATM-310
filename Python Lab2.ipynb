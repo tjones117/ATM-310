{
 "cells": [
  {
   "cell_type": "code",
   "execution_count": null,
   "metadata": {},
   "outputs": [],
   "source": []
  },
  {
   "cell_type": "markdown",
   "metadata": {},
   "source": [
    "The following cell loads required modules"
   ]
  },
  {
   "cell_type": "code",
   "execution_count": 1,
   "metadata": {},
   "outputs": [],
   "source": [
    "# import required models for plotting and for numerical operations\n",
    "import numpy as np\n",
    "import matplotlib.pyplot as plt\n",
    "import math"
   ]
  },
  {
   "cell_type": "markdown",
   "metadata": {},
   "source": [
    "Assignment:  Define any required constants at the top of this cell.  Also complete the definitions of the functions for saturation vapor pressure, saturation mixing ratio, and saturation specific humidity."
   ]
  },
  {
   "cell_type": "code",
   "execution_count": 2,
   "metadata": {},
   "outputs": [],
   "source": [
    "#define physical constants and standard functions\n",
    "\n",
    "Rd = 287.05\n",
    "g = 9.80665\n",
    "hPa = 100.0\n",
    "epsilon = 0.622\n",
    "\n",
    "\n",
    "def esat(TK):\n",
    "    '''Given temperature in Kelvin, use Bolton formula to compute\n",
    "    vapor pressure in Pa.'''\n",
    "    TC = TK-273.15\n",
    "    return(611.2*np.exp(17.67*TC/(TC+243.5)))   # Bolton formula\n",
    "    \n",
    "def wsat(TC,p):\n",
    "    '''Given temperature in Celsius and pressure in Pa, compute\n",
    "    non-dimensional saturation mixing ratio.'''\n",
    "    TK = TC + 273.15\n",
    "    es = esat(TK)\n",
    "    w = (epsilon * es) / (p - es)\n",
    "    return(w)\n",
    "\n",
    "def qsat(TC,p):\n",
    "    '''Given temperature in Celsius and pressure in Pa, compute\n",
    "    non-dimensional specific humidity.'''\n",
    "    q = wsat(TC, p) / (1 + wsat(TC, p))\n",
    "    return(q)\n",
    "\n",
    "def dewpoint(w):\n",
    "    es = esat(TC + 273.15)\n",
    "    A = 2.53e11\n",
    "    B = -5420\n",
    "    dew = B / math.log(es / A)\n",
    "    return(dew)"
   ]
  },
  {
   "cell_type": "code",
   "execution_count": 3,
   "metadata": {},
   "outputs": [
    {
     "name": "stdout",
     "output_type": "stream",
     "text": [
      "0.026568170862854675\n"
     ]
    }
   ],
   "source": [
    "print qsat(30, 101000)"
   ]
  },
  {
   "cell_type": "code",
   "execution_count": 4,
   "metadata": {},
   "outputs": [
    {
     "name": "stdout",
     "output_type": "stream",
     "text": [
      "611.2\n",
      "0.004252953390133887\n"
     ]
    }
   ],
   "source": [
    "# Test that above functions produce correct values\n",
    "\n",
    "TK = 273.15\n",
    "TC = 0.\n",
    "es = esat(TK)\n",
    "print es\n",
    "\n",
    "p = 900*hPa\n",
    "ws = wsat(TC,p)\n",
    "print ws\n",
    "\n",
    "# Correct values should be 611.2 and 0.00425..."
   ]
  },
  {
   "cell_type": "code",
   "execution_count": 5,
   "metadata": {},
   "outputs": [],
   "source": [
    "hPa = 100.0"
   ]
  },
  {
   "cell_type": "markdown",
   "metadata": {},
   "source": [
    "Define  a class that stores a sounding with appropriate methods and attributes.\n",
    "\n",
    "ASSIGNMENT:  Add code to extract not only the temp, dewpoint, and pressure but also the geopotential height Zsnd.  Also add code to compute and save the water vapor mixing ratio w.  Finally, add methods to (a) compute geopotential height Zcmp and (b) plot both Zsnd and Zcomp vs. pressure (same vertical scale as for basic profile plot.)"
   ]
  },
  {
   "cell_type": "code",
   "execution_count": 6,
   "metadata": {},
   "outputs": [],
   "source": [
    "class Sounding():\n",
    "    def __init__(self, filename):\n",
    "\n",
    "        filename = '20130927_143732_EDT.tsv'\n",
    "        self.time = []\n",
    "        self.Pscl = []\n",
    "        self.T = []\n",
    "        self.RH = []\n",
    "        self.v = []\n",
    "        self.u = []\n",
    "        self.Height = []\n",
    "        self.P = []\n",
    "        self.TD = []\n",
    "        self.TDc = []\n",
    "        self.TC = []\n",
    "        self.MR = []\n",
    "        self.DD = []\n",
    "        self.FF = []\n",
    "        self.AZ = []\n",
    "        self.Range = []\n",
    "        self.Lon = []\n",
    "        self.Lat = []\n",
    "        self.SpuKey = []\n",
    "        self.UsrKey = []\n",
    "        self.RadarH = []\n",
    "        self.stid = 'Rooftop'\n",
    "        self.dtime = filename.split('_')[0]\n",
    "\n",
    "        with open(filename, 'r') as f:\n",
    "            for line in f.readlines()[39:]:\n",
    "                split_lines = line.split()\n",
    "                for variable, assign_to in zip(split_lines,[self.time, self.Pscl, self.T, self.RH, self.v, self.u, self.Height, self.P, self.TD, self.MR, self.DD, self.FF, self.AZ, self.Range, self.Lon, self.Lat, self.SpuKey, self.UsrKey, self.RadarH]):\n",
    "                    assign_to.append(float(variable))\n",
    "\n",
    "        self.nlevels = len(self.T)\n",
    "        self.p = []\n",
    "        for item in self.P:\n",
    "            new = item\n",
    "            self.p.append(new)\n",
    "        self.wsat = []\n",
    "        for temp, pres in zip(self.T, self.p):\n",
    "            TCel = temp - 273.15\n",
    "            self.TC.append(TCel)\n",
    "            new = wsat(TCel, pres)\n",
    "            self.wsat.append(new)\n",
    "            \n",
    "        for temp in self.TD:\n",
    "            TDcel = temp - 273.15\n",
    "            self.TDc.append(TDcel)\n",
    "        \n",
    "        self.compute_Z()  # Independently compute Z from hypsometric equation\n",
    "        \n",
    "    def compute_Z(self):\n",
    "        self.Zs = [0.]\n",
    "        for T1, T2, P1, P2 in zip(self.T[:-1], self.T[1:], self.P[:-1], self.P[1:]):\n",
    "            TC1 = T1 - 273.15\n",
    "            TC2 = T2 - 273.15\n",
    "            Pa1 = P1 * hPa\n",
    "            Pa2 = P2 * hPa\n",
    "            q1 = qsat(TC1, Pa1)\n",
    "            q2 = qsat(TC2, Pa2)\n",
    "            Tv1 = TC1 * (1 + (0.61 * q1))\n",
    "            Tv2 = TC2 * (1 + (0.61 * q2))\n",
    "            Tvbar = (Tv1 + Tv2) / 2\n",
    "            \n",
    "            delz = ((Rd * Tvbar) / g) * math.log(P1/P2)\n",
    "            self.Zs.append(delz + self.Zs[-1])\n",
    "                \n",
    "        \n",
    "    def plot_profile(self):\n",
    "        plt.title(self.stid + \" \" + self.dtime)\n",
    "        plt.plot(self.TC,self.p, linewidth=2.0)\n",
    "        plt.plot(self.TDc,self.p, linewidth=2.0)\n",
    "        \n",
    "        \n",
    "    "
   ]
  },
  {
   "cell_type": "code",
   "execution_count": null,
   "metadata": {},
   "outputs": [],
   "source": []
  },
  {
   "cell_type": "markdown",
   "metadata": {},
   "source": [
    "The following cell provides some convenience functions for setting up plotting axes and creating a Temperature vs. log(pressure) template to plot on.\n",
    "\n",
    "ASSIGNMENT:  Add a function that sets up the x-axis for displaying geopotential height in km, with appropriate labels, and with a maximum of 18.0 km."
   ]
  },
  {
   "cell_type": "code",
   "execution_count": 7,
   "metadata": {},
   "outputs": [],
   "source": [
    "Pmin = 100\n",
    "Pmax = 1100\n",
    "Tmin = -80 \n",
    "Tmax = 40 \n",
    "\n",
    "def make_presaxis():\n",
    "    plt.ylabel(\"Pressure [hPa]\")\n",
    "    plt.semilogy()\n",
    "    \n",
    "    plt.ylim((Pmax, Pmin))\n",
    "    \n",
    "    plist = range(Pmin,Pmax,100)\n",
    "    plabels = []\n",
    "    for p in plist:\n",
    "        plabels.append(str(p))\n",
    "    plt.yticks(plist,plabels)\n",
    "\n",
    "def make_Taxis():\n",
    "    plt.xlabel(\"Temperature [C]\")\n",
    "    plt.xlim((Tmin, Tmax))\n",
    "\n",
    "    \n",
    "def make_Tlogp_frame():\n",
    "    make_Taxis()\n",
    "    make_presaxis()\n",
    "\n",
    "# plot the isobars\n",
    "    plist = range(Pmin,Pmax,100)\n",
    "    plabels = []\n",
    "    for p in plist:\n",
    "        plabels.append(str(p))\n",
    "        x = [Tmin, Tmax]\n",
    "        y = [p, p]\n",
    "        plt.plot(x, y, 'k-', linewidth=0.2)\n",
    "\n",
    "# add labels to the isobars\n",
    "    plt.yticks(plist,plabels)\n",
    "\n",
    "# plot isotherms\n",
    "    for T in range(Tmin,Tmax,10):\n",
    "        y = [Pmin, Pmax]\n",
    "        x = [T, T]\n",
    "        plt.plot(x, y, 'b-', linewidth=0.2)\n",
    "        \n"
   ]
  },
  {
   "cell_type": "markdown",
   "metadata": {},
   "source": [
    "The following cell initializes a sounding with the data in a specified file."
   ]
  },
  {
   "cell_type": "code",
   "execution_count": 8,
   "metadata": {},
   "outputs": [],
   "source": [
    "mysounding = Sounding(\"20130927_143732_EDT.tsv\")"
   ]
  },
  {
   "cell_type": "markdown",
   "metadata": {},
   "source": [
    "The following cell is where you specify the parameters of a particular parcel."
   ]
  },
  {
   "cell_type": "code",
   "execution_count": 9,
   "metadata": {},
   "outputs": [
    {
     "name": "stdout",
     "output_type": "stream",
     "text": [
      "[290.5, 290.5, 290.2, 290.1, 290.0, 289.9, 289.9, 289.9, 289.9, 289.8, 289.9, 290.1, 290.4, 290.4, 290.5, 290.8, 290.9, 291.0, 291.1, 291.4, 291.9, 292.2, 292.3, 292.4, 292.5, 292.5, 292.6, 292.6, 292.6, 292.6, 292.6, 292.5, 292.5, 292.5, 292.5, 292.5, 292.6, 292.6, 292.6, 292.6, 292.6, 292.6, 292.7, 292.8, 292.8, 292.9, 292.9, 293.0, 293.0, 293.0, 293.0, 292.9, 292.9, 292.8, 292.7, 292.7, 292.7, 292.7, 292.6, 292.6, 292.6, 292.6, 292.5, 292.5, 292.4, 292.3, 292.3, 292.2, 292.2, 292.1, 292.0, 292.0, 291.9, 291.8, 291.7, 291.6, 291.6, 291.5, 291.5, 291.4, 291.3, 291.2, 291.1, 291.0, 290.9, 290.9, 290.8, 290.8, 290.7, 290.7, 290.6, 290.5, 290.4, 290.4, 290.3, 290.3, 290.2, 290.2, 290.1, 290.1, 290.0, 289.9, 289.9, 289.8, 289.7, 289.7, 289.6, 289.6, 289.5, 289.4, 289.3, 289.2, 289.1, 289.0, 288.9, 288.9, 288.8, 288.7, 288.7, 288.6, 288.5, 288.4, 288.3, 288.2, 288.2, 288.1, 288.0, 287.9, 287.8, 287.6, 287.5, 287.4, 287.4, 287.3, 287.2, 287.1, 287.1, 287.0, 286.9, 286.8, 286.7, 286.7, 286.6, 286.6, 286.7, 286.6, 286.6, 286.6, 286.7, 287.1, 287.4, 287.6, 287.8, 288.1, 288.2, 288.2, 288.2, 288.3, 288.4, 288.4, 288.5, 288.5, 288.5, 288.5, 288.4, 288.4, 288.4, 288.4, 288.4, 288.3, 288.4, 288.4, 288.4, 288.3, 288.3, 288.2, 288.2, 288.2, 288.2, 288.1, 288.1, 288.1, 288.1, 288.0, 288.0, 287.9, 287.9, 287.9, 287.8, 287.8, 287.7, 287.7, 287.7, 287.6, 287.6, 287.6, 287.5, 287.4, 287.4, 287.3, 287.3, 287.3, 287.3, 287.2, 287.2, 287.2, 287.1, 287.1, 287.1, 287.0, 286.9, 286.9, 286.9, 286.9, 286.8, 286.8, 286.8, 286.9, 286.8, 286.8, 286.7, 286.7, 286.6, 286.6, 286.5, 286.5, 286.4, 286.4, 286.3, 286.3, 286.3, 286.3, 286.3, 286.2, 286.1, 286.1, 286.1, 286.0, 285.9, 285.8, 285.8, 285.7, 285.6, 285.6, 285.5, 285.5, 285.5, 285.5, 285.4, 285.4, 285.4, 285.4, 285.4, 285.4, 285.3, 285.2, 285.2, 285.1, 285.2, 285.1, 285.0, 285.0, 285.0, 285.0, 285.0, 285.0, 285.0, 285.1, 285.2, 285.2, 285.0, 285.0, 285.0, 285.0, 285.1, 285.0, 285.0, 285.0, 285.0, 284.9, 284.9, 284.8, 284.8, 284.8, 284.7, 284.8, 284.7, 284.6, 284.7, 284.7, 284.6, 284.5, 284.5, 284.5, 284.6, 284.5, 284.5, 284.4, 284.4, 284.3, 284.3, 284.3, 284.3, 284.3, 284.2, 284.2, 284.1, 284.0, 283.9, 283.8, 283.7, 283.6, 283.6, 283.6, 283.6, 283.5, 283.4, 283.4, 283.3, 283.2, 283.2, 283.1, 283.0, 283.0, 283.0, 283.0, 282.8, 282.7, 282.7, 282.7, 282.6, 282.6, 282.6, 282.5, 282.5, 282.5, 282.5, 282.4, 282.3, 282.3, 282.2, 282.2, 282.2, 282.2, 282.1, 282.1, 282.1, 282.1, 282.1, 282.1, 282.1, 282.2, 282.2, 282.2, 282.2, 282.2, 282.2, 282.2, 282.2, 282.2, 282.2, 282.2, 282.2, 282.2, 282.1, 282.1, 282.1, 282.0, 282.0, 281.9, 281.9, 281.9, 281.8, 281.8, 281.7, 281.6, 281.6, 281.5, 281.4, 281.4, 281.3, 281.2, 281.2, 281.1, 281.0, 281.0, 280.9, 280.9, 280.8, 280.8, 280.8, 280.7, 280.7, 280.7, 280.6, 280.6, 280.6, 280.6, 280.5, 280.4, 280.3, 280.2, 280.1, 280.1, 280.0, 279.9, 279.9, 279.8, 279.7, 279.6, 279.6, 279.6, 279.5, 279.5, 279.5, 279.4, 279.3, 279.3, 279.3, 279.3, 279.3, 279.3, 279.2, 279.3, 279.4, 279.3, 279.3, 279.2, 279.1, 279.1, 279.1, 279.1, 279.0, 278.9, 278.9, 278.8, 278.8, 278.7, 278.7, 278.7, 278.6, 278.6, 278.5, 278.5, 278.5, 278.5, 278.5, 278.6, 278.7, 278.8, 278.7, 278.7, 278.7, 278.7, 278.7, 278.7, 278.7, 278.7, 278.8, 278.8, 278.8, 278.7, 278.7, 278.8, 278.7, 278.6, 278.6, 278.6, 278.6, 278.6, 278.5, 278.5, 278.5, 278.5, 278.5, 278.4, 278.3, 278.4, 278.3, 278.2, 278.2, 278.3, 278.3, 278.2, 278.1, 278.1, 278.1, 278.0, 278.1, 278.1, 278.1, 278.1, 278.1, 278.2, 278.1, 278.1, 278.1, 278.0, 278.0, 278.0, 278.0, 277.9, 277.9, 277.8, 277.8, 277.8, 277.7, 277.7, 277.6, 277.5, 277.5, 277.5, 277.4, 277.3, 277.2, 277.2, 277.2, 277.2, 277.3, 277.4, 277.4, 277.3, 277.3, 277.2, 277.1, 277.0, 277.0, 276.9, 276.9, 276.8, 276.7, 276.6, 276.4, 276.4, 276.4, 276.4, 276.4, 276.3, 276.2, 276.2, 276.1, 276.0, 276.0, 276.0, 275.9, 275.8, 275.8, 275.8, 275.8, 275.7, 275.7, 275.6, 275.7, 275.6, 275.5, 275.4, 275.4, 275.3, 275.3, 275.2, 275.1, 275.1, 275.0, 275.0, 274.9, 274.9, 274.8, 274.7, 274.7, 274.6, 274.6, 274.5, 274.5, 274.4, 274.4, 274.4, 274.3, 274.2, 274.2, 274.1, 274.1, 274.0, 273.9, 273.9, 273.8, 273.8, 273.7, 273.7, 273.6, 273.6, 273.5, 273.5, 273.4, 273.3, 273.3, 273.2, 273.2, 273.1, 273.1, 273.0, 272.9, 272.8, 272.8, 272.7, 272.6, 272.6, 272.5, 272.5, 272.4, 272.4, 272.4, 272.4, 272.3, 272.3, 272.3, 272.3, 272.3, 272.2, 272.3, 272.3, 272.2, 272.1, 272.0, 272.0, 272.0, 272.0, 271.9, 272.0, 271.9, 271.9, 271.8, 271.8, 271.7, 271.7, 271.6, 271.5, 271.5, 271.5, 271.4, 271.4, 271.3, 271.4, 271.4, 271.3, 271.2, 271.2, 271.3, 271.3, 271.1, 271.1, 271.2, 271.2, 271.1, 271.0, 270.9, 271.0, 270.9, 270.8, 270.7, 270.7, 270.7, 270.7, 270.6, 270.5, 270.5, 270.5, 270.5, 270.3, 270.3, 270.2, 270.2, 270.2, 270.1, 270.0, 269.9, 269.9, 269.8, 269.8, 269.8, 269.8, 269.6, 269.6, 269.6, 269.5, 269.4, 269.3, 269.2, 269.1, 269.1, 269.1, 269.0, 268.9, 268.9, 268.8, 268.8, 268.7, 268.6, 268.6, 268.5, 268.5, 268.4, 268.4, 268.3, 268.2, 268.1, 268.1, 268.0, 268.0, 267.9, 268.0, 268.0, 267.9, 267.8, 267.7, 267.6, 267.5, 267.4, 267.4, 267.3, 267.2, 267.2, 267.2, 267.1, 267.1, 267.1, 267.0, 266.9, 266.8, 266.8, 266.7, 266.7, 266.6, 266.5, 266.5, 266.5, 266.4, 266.3, 266.2, 266.2, 266.2, 266.2, 266.1, 266.0, 265.9, 266.0, 266.0, 265.9, 265.8, 265.7, 265.7, 265.7, 265.6, 265.5, 265.5, 265.5, 265.4, 265.4, 265.4, 265.4, 265.4, 265.2, 265.2, 265.2, 265.2, 265.1, 265.1, 265.0, 264.9, 264.9, 264.8, 264.7, 264.6, 264.5, 264.5, 264.4, 264.3, 264.3, 264.2, 264.1, 264.1, 264.0, 263.9, 263.9, 263.8, 263.8, 263.7, 263.6, 263.6, 263.6, 263.6, 263.6, 263.6, 263.6, 263.7, 263.7, 263.7, 263.7, 263.7, 263.7, 263.8, 263.8, 264.0, 263.9, 264.0, 264.0, 263.9, 263.9, 263.9, 263.9, 263.8, 263.8, 263.8, 263.7, 263.6, 263.5, 263.5, 263.5, 263.4, 263.4, 263.4, 263.3, 263.3, 263.2, 263.1, 263.1, 263.1, 263.0, 263.0, 263.0, 263.1, 263.0, 262.9, 262.9, 262.8, 262.7, 262.6, 262.6, 262.6, 262.6, 262.5, 262.5, 262.6, 262.5, 262.3, 262.3, 262.4, 262.3, 262.3, 262.4, 262.3, 262.3, 262.3, 262.2, 262.2, 262.1, 262.1, 262.0, 262.0, 262.0, 261.9, 261.9, 261.8, 261.8, 262.0, 262.1, 262.1, 262.0, 261.8, 261.8, 261.7, 261.8, 261.7, 261.7, 261.7, 261.7, 261.7, 261.7, 261.6, 261.6, 261.5, 261.4, 261.4, 261.5, 261.5, 261.4, 261.3, 261.2, 261.3, 261.2, 261.2, 261.2, 261.2, 261.2, 261.3, 261.2, 261.2, 261.1, 261.1, 261.2, 261.2, 261.0, 260.9, 260.9, 260.9, 260.8, 260.8, 260.7, 260.7, 260.7, 260.6, 260.5, 260.5, 260.4, 260.3, 260.3, 260.2, 260.2, 260.1, 260.1, 260.0, 259.9, 259.9, 259.8, 259.8, 259.7, 259.7, 259.7, 259.6, 259.6, 259.6, 259.5, 259.5, 259.4, 259.4, 259.4, 259.3, 259.3, 259.3, 259.4, 259.3, 259.3, 259.2, 259.2, 259.1, 259.1, 259.1, 259.0, 258.9, 258.9, 258.9, 258.9, 258.8, 258.8, 258.8, 258.7, 258.7, 258.7, 258.5, 258.5, 258.4, 258.3, 258.4, 258.3, 258.2, 258.2, 258.1, 258.0, 257.9, 257.9, 257.9, 257.9, 257.8, 257.8, 257.7, 257.7, 257.5, 257.5, 257.5, 257.5, 257.4, 257.3, 257.3, 257.2, 257.2, 257.2, 257.1, 257.0, 257.0, 256.9, 256.8, 256.8, 256.7, 256.7, 256.6, 256.5, 256.5, 256.4, 256.4, 256.3, 256.3, 256.2, 256.1, 256.1, 256.0, 256.0, 255.9, 255.8, 255.8, 255.7, 255.6, 255.6, 255.6, 255.6, 255.6, 255.5, 255.5, 255.4, 255.3, 255.4, 255.4, 255.4, 255.3, 255.3, 255.3, 255.2, 255.1, 255.1, 255.0, 255.0, 254.9, 254.8, 254.7, 254.7, 254.7, 254.6, 254.6, 254.5, 254.4, 254.4, 254.4, 254.4, 254.4, 254.3, 254.2, 254.2, 254.2, 254.0, 254.0, 253.9, 253.9, 253.9, 253.9, 253.9, 253.8, 253.7, 253.8, 253.7, 253.7, 253.6, 253.4, 253.4, 253.4, 253.5, 253.6, 253.5, 253.4, 253.4, 253.3, 253.2, 253.2, 253.2, 253.2, 253.1, 253.1, 253.0, 253.1, 253.0, 253.0, 253.1, 253.1, 253.1, 253.0, 252.9, 252.9, 252.9, 253.1, 253.1, 252.9, 252.8, 252.7, 252.8, 252.8, 252.7, 252.5, 252.5, 252.6, 252.6, 252.5, 252.4, 252.4, 252.4, 252.3, 252.3, 252.3, 252.2, 252.1, 252.2, 252.2, 252.2, 252.2, 252.1, 252.1, 252.1, 252.1, 252.0, 252.0, 252.0, 251.9, 251.9, 251.9, 251.8, 251.7, 251.6, 251.6, 251.5, 251.4, 251.4, 251.5, 251.4, 251.3, 251.2, 251.1, 251.0, 251.0, 250.9, 250.9, 250.8, 250.7, 250.6, 250.6, 250.5, 250.4, 250.4, 250.3, 250.3, 250.2, 250.1, 250.1, 250.0, 250.0, 249.9, 249.8, 249.7, 249.7, 249.6, 249.6, 249.7, 249.7, 249.7, 249.6, 249.5, 249.4, 249.3, 249.2, 249.2, 249.1, 249.0, 248.9, 248.8, 248.7, 248.6, 248.6, 248.5, 248.5, 248.4, 248.4, 248.3, 248.2, 248.1, 248.0, 248.0, 247.9, 247.8, 247.8, 247.8, 247.7, 247.7, 247.5, 247.5, 247.4, 247.4, 247.3, 247.2, 247.2, 247.1, 247.0, 246.9, 246.8, 246.8, 246.7, 246.6, 246.6, 246.5, 246.5, 246.4, 246.3, 246.3, 246.3, 246.3, 246.1, 246.0, 245.9, 245.8, 245.7, 245.7, 245.6, 245.5, 245.5, 245.4, 245.3, 245.2, 245.3, 245.3, 245.2, 245.1, 245.1, 245.0, 244.9, 244.8, 244.8, 244.8, 244.7, 244.6, 244.5, 244.4, 244.3, 244.2, 244.1, 244.1, 244.0, 244.0, 243.9, 243.8, 243.8, 243.7, 243.6, 243.6, 243.5, 243.4, 243.4, 243.3, 243.3, 243.2, 243.1, 243.1, 243.0, 242.9, 242.8, 242.8, 242.7, 242.7, 242.6, 242.5, 242.4, 242.4, 242.3, 242.3, 242.2, 242.1, 242.1, 242.2, 242.3, 242.2, 242.1, 241.9, 241.9, 241.8, 241.7, 241.6, 241.5, 241.4, 241.4, 241.4, 241.3, 241.3, 241.3, 241.2, 241.2, 241.1, 241.1, 241.1, 241.0, 240.9, 240.9, 240.8, 240.8, 240.7, 240.7, 240.6, 240.5, 240.5, 240.4, 240.3, 240.3, 240.2, 240.2, 240.2, 240.2, 240.1, 240.0, 240.0, 240.0, 240.0, 239.9, 239.9, 239.8, 239.7, 239.7, 239.6, 239.5, 239.5, 239.4, 239.3, 239.3, 239.2, 239.2, 239.1, 239.1, 239.0, 239.0, 239.0, 238.9, 238.8, 238.9, 239.0, 238.9, 238.8, 238.7, 238.6, 238.5, 238.4, 238.3, 238.2, 238.1, 238.1, 238.1, 238.0, 237.9, 237.9, 237.8, 237.7, 237.7, 237.7, 237.6, 237.6, 237.6, 237.5, 237.4, 237.4, 237.3, 237.3, 237.2, 237.2, 237.1, 237.1, 237.0, 237.0, 236.9, 236.9, 236.9, 236.9, 236.8, 236.8, 236.8, 236.7, 236.7, 236.6, 236.5, 236.5, 236.4, 236.5, 236.4, 236.3, 236.2, 236.2, 236.3, 236.3, 236.2, 236.2, 236.0, 236.0, 236.0, 235.9, 236.0, 236.0, 235.9, 235.9, 236.0, 236.0, 235.9, 235.8, 235.8, 235.9, 235.9, 235.8, 235.8, 235.7, 235.6, 235.6, 235.6, 235.6, 235.4, 235.5, 235.4, 235.4, 235.3, 235.3, 235.4, 235.2, 235.1, 235.1, 235.0, 235.0, 234.9, 234.9, 234.8, 234.8, 234.8, 234.7, 234.7, 234.7, 234.8, 234.7, 234.5, 234.4, 234.5, 234.6, 234.7, 234.6, 234.5, 234.4, 234.5, 234.6, 234.6, 234.5, 234.4, 234.4, 234.3, 234.3, 234.4, 234.4, 234.5, 234.5, 234.5, 234.4, 234.3, 234.2, 234.1, 234.1, 233.9, 233.8, 233.8, 233.7, 233.6, 233.6, 233.5, 233.5, 233.4, 233.3, 233.3, 233.2, 233.2, 233.1, 233.0, 233.0, 232.9, 232.9, 232.8, 232.7, 232.7, 232.6, 232.5, 232.5, 232.6, 232.5, 232.4, 232.3, 232.2, 232.1, 232.1, 232.0, 231.9, 231.9, 231.8, 231.7, 231.6, 231.6, 231.6, 231.5, 231.5, 231.4, 231.2, 231.2, 231.2, 231.1, 231.0, 231.0, 230.9, 230.8, 230.7, 230.7, 230.6, 230.6, 230.5, 230.5, 230.4, 230.4, 230.4, 230.3, 230.1, 230.1, 230.0, 229.9, 229.9, 229.8, 229.8, 229.7, 229.6, 229.6, 229.5, 229.4, 229.3, 229.3, 229.3, 229.2, 229.1, 229.1, 229.1, 229.1, 229.0, 228.9, 228.8, 228.8, 228.8, 228.7, 228.6, 228.5, 228.5, 228.4, 228.3, 228.3, 228.2, 228.2, 228.2, 228.3, 228.4, 228.4, 228.2, 228.1, 228.0, 228.0, 228.0, 227.9, 227.8, 227.7, 227.7, 227.6, 227.5, 227.5, 227.4, 227.3, 227.2, 227.1, 227.0, 226.9, 226.8, 226.7, 226.6, 226.5, 226.4, 226.3, 226.3, 226.3, 226.3, 226.2, 226.0, 226.0, 225.9, 225.8, 225.8, 225.7, 225.6, 225.6, 225.5, 225.5, 225.4, 225.3, 225.2, 225.2, 225.1, 225.0, 224.9, 224.9, 224.8, 224.8, 224.7, 224.6, 224.6, 224.5, 224.5, 224.4, 224.4, 224.3, 224.3, 224.2, 224.1, 224.0, 223.9, 223.8, 223.8, 223.7, 223.7, 223.6, 223.6, 223.5, 223.4, 223.4, 223.4, 223.3, 223.2, 223.2, 223.1, 223.0, 222.9, 222.8, 222.7, 222.7, 222.6, 222.5, 222.4, 222.4, 222.3, 222.2, 222.2, 222.1, 222.0, 221.9, 221.9, 221.8, 221.7, 221.7, 221.7, 221.6, 221.4, 221.4, 221.5, 221.4, 221.3, 221.1, 221.1, 221.0, 220.9, 220.9, 220.8, 220.8, 220.7, 220.6, 220.6, 220.5, 220.5, 220.4, 220.3, 220.3, 220.2, 220.2, 220.1, 220.1, 220.1, 220.1, 220.0, 220.0, 219.9, 219.9, 219.8, 219.8, 219.8, 219.8, 219.8, 219.9, 219.8, 219.8, 219.8, 219.7, 219.7, 219.6, 219.6, 219.7, 219.6, 219.5, 219.4, 219.4, 219.3, 219.2, 219.2, 219.2, 219.1, 219.1, 219.0, 218.9, 218.9, 218.9, 218.8, 218.7, 218.7, 218.6, 218.5, 218.4, 218.4, 218.3, 218.2, 218.2, 218.2, 218.1, 218.1, 218.2, 218.3, 218.2, 218.1, 218.0, 218.0, 218.0, 217.9, 217.9, 217.8, 217.7, 217.7, 217.6, 217.5, 217.4, 217.4, 217.5, 217.5, 217.4, 217.3, 217.2, 217.2, 217.1, 217.1, 217.0, 217.0, 217.1, 217.0, 216.9, 216.9, 216.8, 216.7, 216.7, 216.7, 216.6, 216.5, 216.5, 216.4, 216.4, 216.5, 216.6, 216.6, 216.6, 216.8, 216.8, 216.7, 216.6, 216.6, 216.7, 216.7, 216.7, 216.8, 216.7, 216.7, 216.7, 216.6, 216.6, 216.5, 216.5, 216.4, 216.3, 216.2, 216.2, 216.1, 216.0, 216.0, 216.0, 216.2, 216.1, 216.0, 215.9, 215.9, 215.9, 215.7, 215.6, 215.6, 215.6, 215.6, 215.7, 215.7, 215.7, 215.7, 215.7, 215.6, 215.5, 215.4, 215.4, 215.4, 215.3, 215.2, 215.2, 215.1, 215.1, 215.0, 215.0, 215.0, 215.0, 214.9, 214.8, 214.7, 214.7, 214.7, 214.7, 214.6, 214.6, 214.6, 214.6, 214.5, 214.5, 214.5, 214.5, 214.5, 214.5, 214.4, 214.4, 214.3, 214.2, 214.2, 214.1, 214.1, 214.0, 214.0, 213.9, 213.9, 213.8, 213.8, 213.7, 213.7, 213.6, 213.6, 213.5, 213.5, 213.4, 213.3, 213.3, 213.2, 213.2, 213.1, 213.1, 213.0, 213.0, 213.0, 212.9, 212.9, 212.9, 212.9, 212.8, 212.8, 212.9, 213.0, 213.0, 212.9, 212.8, 212.6, 212.6, 212.8, 212.8, 212.8, 212.6, 212.5, 212.4, 212.4, 212.4, 212.3, 212.2, 212.2, 212.3, 212.4, 212.3, 212.2, 212.1, 212.0, 211.9, 211.9, 211.9, 211.8, 211.8, 211.8, 211.7, 211.8, 211.9, 212.1, 212.2, 212.2, 212.2, 212.1, 212.0, 211.8, 211.8, 211.8, 211.7, 211.7, 211.7, 211.6, 211.7, 211.8, 211.7, 211.5, 211.4, 211.5, 211.5, 211.5, 211.4, 211.4, 211.4, 211.4, 211.4, 211.4, 211.3, 211.2, 211.2, 211.3, 211.4, 211.3, 211.2, 211.2, 211.0, 210.9, 210.8, 210.7, 210.6, 210.5, 210.4, 210.4, 210.4, 210.5, 210.4, 210.3, 210.3, 210.3, 210.2, 210.2, 210.2, 210.2, 210.3, 210.2, 210.3, 210.3, 210.4, 210.6, 210.5, 210.4, 210.3, 210.2, 210.1, 210.1, 210.2, 210.2, 210.1, 210.0, 209.9, 209.8, 209.7, 209.6, 209.5, 209.5, 209.5, 209.5, 209.3, 209.3, 209.3, 209.3, 209.2, 209.2, 209.2, 209.1, 209.1, 209.1, 209.1, 209.1, 209.0, 209.0, 208.9, 208.9, 208.8, 208.8, 208.8, 208.7, 208.6, 208.5, 208.5, 208.4, 208.4, 208.3, 208.3, 208.3, 208.2, 208.2, 208.2, 208.1, 208.1, 208.2, 208.4, 208.5, 208.4, 208.3, 208.3, 208.2, 208.2, 208.2, 208.2, 208.1, 208.2, 208.3, 208.2, 208.1, 208.0, 207.9, 207.9, 207.9, 207.8, 207.7, 207.6, 207.5, 207.6, 207.8, 207.8, 207.8, 207.8, 207.7, 207.6, 207.5, 207.4, 207.4, 207.3, 207.2, 207.1, 207.1, 207.0, 207.0, 207.0, 206.9, 206.9, 206.9, 206.9, 207.0, 207.1, 207.0, 207.0, 206.9, 207.0, 207.0, 206.9, 206.9, 206.8, 206.8, 206.8, 206.8, 206.8, 206.7, 206.6, 206.6, 206.6, 206.6, 206.7, 206.6, 206.5, 206.5, 206.4, 206.4, 206.4, 206.4, 206.4, 206.3, 206.2, 206.2, 206.1, 206.1, 206.0, 205.9, 205.9, 205.8, 205.9, 205.8, 205.7, 205.8, 205.9, 205.9, 205.8, 205.7, 205.7, 205.6, 205.8, 205.8, 205.8, 205.7, 205.7, 205.7, 205.6, 205.6, 205.6, 205.6, 205.5, 205.5, 205.5, 205.5, 205.5, 205.6, 205.5, 205.5, 205.5, 205.6, 205.7, 205.8, 205.9, 205.9, 205.8, 205.8, 205.8, 205.9, 205.8, 205.8, 205.9, 205.9, 205.9, 205.8, 205.8, 205.7, 205.6, 205.6, 205.7, 205.6, 205.6, 205.5, 205.4, 205.3, 205.2, 205.2, 205.2, 205.1, 205.1, 205.0, 204.9, 204.9, 204.9, 204.8, 204.8, 204.8, 204.9, 204.9, 204.9, 204.8, 204.9, 204.9, 205.1, 205.2, 205.1, 205.1, 205.0, 205.0, 205.0, 205.2, 205.3, 205.3, 205.5, 205.6, 205.6, 205.6, 205.6, 205.7, 205.7, 205.8, 205.9, 206.0, 206.0, 205.9, 205.9, 205.9, 205.9, 206.0, 205.9, 205.9, 205.8, 205.9, 205.9, 205.9, 205.9, 205.9, 205.9, 205.9, 206.0, 206.0, 206.0, 206.0, 206.0, 205.9, 205.9, 205.9, 205.9, 205.9, 205.8, 205.7, 205.6, 205.6, 205.7, 205.9, 205.8, 205.7, 205.6, 205.5, 205.4, 205.3, 205.3, 205.3, 205.4, 205.4, 205.4, 205.3, 205.3, 205.4, 205.6, 205.6, 205.5, 205.4, 205.3, 205.5, 205.5, 205.6, 206.0, 206.3, 206.4, 206.3, 206.3, 206.3, 206.2, 206.2, 206.3, 206.3, 206.4, 206.5, 206.5, 206.6, 206.6, 206.6, 206.7, 206.6, 206.6, 206.6, 206.6, 206.5, 206.5, 206.5, 206.5, 206.4, 206.4, 206.4, 206.5, 206.5, 206.4, 206.4, 206.4, 206.3, 206.3, 206.3, 206.3, 206.4, 206.5, 206.7, 206.7, 206.7, 206.6, 206.6, 206.5, 206.5, 206.5, 206.4, 206.3, 206.3, 206.3, 206.3, 206.2, 206.0, 205.9, 205.9, 205.8, 205.7, 205.6, 205.6, 205.5, 205.5, 205.4, 205.3, 205.3, 205.2, 205.1, 205.0, 204.9, 204.8, 204.7, 204.6, 204.5, 204.4, 204.4, 204.3, 204.3, 204.2, 204.1, 204.1, 204.0, 203.9, 203.7, 203.7, 203.7, 203.7, 203.8, 203.9, 203.8, 203.7, 203.6, 203.6, 203.6, 203.5, 203.4, 203.3, 203.2, 203.2, 203.4, 203.6, 203.6, 203.5, 203.4, 203.3, 203.2, 203.1, 203.2, 203.3, 203.3, 203.4, 203.3, 203.2, 203.1, 203.0, 203.0, 203.1, 203.2, 203.1, 203.0, 203.1, 203.1, 203.1, 203.0, 202.9, 202.9, 202.9, 202.9, 202.9, 202.9, 202.8, 202.7, 202.7, 202.6, 202.5, 202.5, 202.7, 202.6, 202.6, 202.6, 202.7, 202.8, 202.9, 202.9, 203.0, 203.1, 203.4, 203.5, 203.6, 203.7, 203.6, 203.6, 203.6, 203.5, 203.5, 203.5, 203.6, 203.7, 203.6, 203.6, 203.5, 203.8, 203.8, 203.8, 203.9, 203.8, 203.7, 203.6, 203.6, 203.5, 203.5, 203.4, 203.4, 203.4, 203.4, 203.4, 203.3, 203.2, 203.1, 202.9, 202.8, 202.7, 202.6, 202.5, 202.5, 202.5, 202.4, 202.6, 202.9, 203.0, 203.0, 202.9, 202.8, 202.9, 203.2, 203.5, 203.5, 203.4, 203.4, 203.7, 204.0, 204.2, 204.1, 204.1, 204.2, 204.4, 204.5, 204.5, 204.5, 204.4, 204.3, 204.1, 204.0, 204.1, 204.1, 204.3, 204.5, 204.5, 204.4, 204.2, 204.2, 204.3, 204.2, 204.2, 204.0, 203.9, 203.8, 203.8, 203.8, 203.8, 203.9, 203.9, 203.8, 203.7, 203.9, 203.9, 204.1, 204.6, 204.8, 204.9, 204.9, 205.1, 205.3, 205.4, 205.5, 205.7, 205.7, 205.6, 205.6, 205.6, 205.6, 205.5, 205.5, 205.6, 205.6, 205.6, 205.6, 205.7, 205.7, 205.8, 205.9, 205.9, 206.0, 206.0, 206.1, 206.1, 206.2, 206.2, 206.3, 206.4, 206.6, 206.7, 206.9, 207.0, 207.2, 207.3, 207.1, 207.1, 207.0, 207.0, 207.0, 207.0, 207.0, 207.0, 207.0, 207.0, 207.1, 207.1, 207.1, 207.2, 207.3, 207.4, 207.6, 207.7, 207.8, 207.9, 208.0, 208.1, 208.2, 208.3]\n"
     ]
    }
   ],
   "source": [
    "print (mysounding.T)"
   ]
  },
  {
   "cell_type": "markdown",
   "metadata": {},
   "source": [
    "The following cell executes the main program, include creating plots, simulating parcel motion, etc.\n",
    "\n",
    "ASSIGNMENT:  Add a plot of pressure vs. Z in the lower left panel."
   ]
  },
  {
   "cell_type": "code",
   "execution_count": 11,
   "metadata": {},
   "outputs": [
    {
     "data": {
      "image/png": "[encoded data removed]",
      "text/plain": [
       "<matplotlib.figure.Figure at 0x67bc390>"
      ]
     },
     "metadata": {},
     "output_type": "display_data"
    }
   ],
   "source": [
    "\n",
    "# create a canvas for the plot\n",
    "myfig = plt.figure(1 , figsize=(9,9))\n",
    "plt.suptitle(\"Tyler Jones\")\n",
    "\n",
    "# UPPER LEFT PANEL HAS SOUNDING -------------------------\n",
    "plt.subplot(221)\n",
    "\n",
    "# Create T-logp chart with isobars, isotherms, adiabats\n",
    "make_Tlogp_frame()   \n",
    "\n",
    "# Plot sounding\n",
    "mysounding.plot_profile()\n",
    "\n",
    "# LOWER LEFT PANEL HAS PRESSURE VS. Z ---------------\n",
    "\n",
    "# Display or save plot\n",
    "plt.show()\n",
    "myfig.savefig(\"Lab02.pdf\")"
   ]
  },
  {
   "cell_type": "code",
   "execution_count": null,
   "metadata": {},
   "outputs": [],
   "source": []
  },
  {
   "cell_type": "code",
   "execution_count": null,
   "metadata": {},
   "outputs": [],
   "source": []
  },
  {
   "cell_type": "code",
   "execution_count": null,
   "metadata": {},
   "outputs": [],
   "source": []
  }
 ],
 "metadata": {
  "kernelspec": {
   "display_name": "Python 2",
   "language": "python",
   "name": "python2"
  },
  "language_info": {
   "codemirror_mode": {
    "name": "ipython",
    "version": 2
   },
   "file_extension": ".py",
   "mimetype": "text/x-python",
   "name": "python",
   "nbconvert_exporter": "python",
   "pygments_lexer": "ipython2",
   "version": "2.7.14"
  }
 },
 "nbformat": 4,
 "nbformat_minor": 1
}
